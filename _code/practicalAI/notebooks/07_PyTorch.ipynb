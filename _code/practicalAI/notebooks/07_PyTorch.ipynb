{
 "cells": [
  {
   "cell_type": "markdown",
   "metadata": {
    "colab_type": "text",
    "id": "bOChJSNXtC9g"
   },
   "source": [
    "# PyTorch"
   ]
  },
  {
   "cell_type": "markdown",
   "metadata": {
    "colab_type": "text",
    "id": "OLIxEDq6VhvZ"
   },
   "source": [
    "<img src=\"https://raw.githubusercontent.com/GokuMohandas/practicalAI/master/images/logo.png\" width=150>\n",
    "\n",
    "In this lesson we'll learn about PyTorch which is a machine learning library used to build dynamic neural networks. We'll learn about the basics, like creating and using Tensors, in this lesson but we'll be making models with it in the next lesson.\n",
    "\n",
    "<img src=\"https://raw.githubusercontent.com/GokuMohandas/practicalAI/master/images/pytorch.png\" width=300>"
   ]
  },
  {
   "cell_type": "markdown",
   "metadata": {
    "colab_type": "text",
    "id": "VoMq0eFRvugb"
   },
   "source": [
    "# Tensor basics"
   ]
  },
  {
   "cell_type": "code",
   "execution_count": null,
   "metadata": {
    "colab": {
     "base_uri": "https://localhost:8080/",
     "height": 34
    },
    "colab_type": "code",
    "id": "0-dXQiLlTIgz",
    "outputId": "d4ed17af-40a8-41db-ba6e-825ff9db2187"
   },
   "outputs": [
    {
     "name": "stdout",
     "output_type": "stream",
     "text": [
      "Collecting torch\n",
      "\u001b[?25l  Downloading https://files.pythonhosted.org/packages/d0/47/068dc7020fd8cf89cca74a16690e274fb55c08684bcaece11348d98264f0/torch-1.0.0-cp36-none-macosx_10_7_x86_64.whl (61.4MB)\n",
      "\u001b[K    1% |▋                               | 1.2MB 21kB/s eta 0:47:288"
     ]
    }
   ],
   "source": [
    "# Load PyTorch library\n",
    "!pip3 install torch"
   ]
  },
  {
   "cell_type": "code",
   "execution_count": null,
   "metadata": {
    "colab": {},
    "colab_type": "code",
    "collapsed": true,
    "id": "rX7Vs1JxL9wX"
   },
   "outputs": [],
   "source": [
    "import numpy as np\n",
    "import torch"
   ]
  },
  {
   "cell_type": "code",
   "execution_count": null,
   "metadata": {
    "colab": {
     "base_uri": "https://localhost:8080/",
     "height": 119
    },
    "colab_type": "code",
    "collapsed": true,
    "id": "Nv0xryLkKujV",
    "outputId": "d46d5e58-2195-40a8-841c-26b627541a83"
   },
   "outputs": [],
   "source": [
    "# Creating a zero tensor\n",
    "x = torch.Tensor(3, 4)\n",
    "print(\"Type: {}\".format(x.type()))\n",
    "print(\"Size: {}\".format(x.shape))\n",
    "print(\"Values: \\n{}\".format(x))"
   ]
  },
  {
   "cell_type": "code",
   "execution_count": null,
   "metadata": {
    "colab": {
     "base_uri": "https://localhost:8080/",
     "height": 51
    },
    "colab_type": "code",
    "collapsed": true,
    "id": "vnyzY4PHL7c5",
    "outputId": "70ed373d-e7e0-43cd-e732-51be86377721"
   },
   "outputs": [],
   "source": [
    "# Creating a random tensor\n",
    "x = torch.randn(2, 3) # normal distribution (rand(2,3) -> uniform distribution)\n",
    "print (x)"
   ]
  },
  {
   "cell_type": "code",
   "execution_count": null,
   "metadata": {
    "colab": {
     "base_uri": "https://localhost:8080/",
     "height": 85
    },
    "colab_type": "code",
    "collapsed": true,
    "id": "DVwGNeKxMXI8",
    "outputId": "6a185aa3-96f2-4e29-b116-3de3025cff4d"
   },
   "outputs": [],
   "source": [
    "# Zero and Ones tensor\n",
    "x = torch.zeros(2, 3)\n",
    "print (x)\n",
    "x = torch.ones(2, 3)\n",
    "print (x)"
   ]
  },
  {
   "cell_type": "code",
   "execution_count": null,
   "metadata": {
    "colab": {
     "base_uri": "https://localhost:8080/",
     "height": 85
    },
    "colab_type": "code",
    "collapsed": true,
    "id": "BPjHnDmCMXLm",
    "outputId": "c14c494e-b714-4983-eb90-665064830a14"
   },
   "outputs": [],
   "source": [
    "# List → Tensor\n",
    "x = torch.Tensor([[1, 2, 3],[4, 5, 6]])\n",
    "print(\"Size: {}\".format(x.shape)) \n",
    "print(\"Values: \\n{}\".format(x))"
   ]
  },
  {
   "cell_type": "code",
   "execution_count": null,
   "metadata": {
    "colab": {
     "base_uri": "https://localhost:8080/",
     "height": 85
    },
    "colab_type": "code",
    "collapsed": true,
    "id": "mG4-CHkgMXOE",
    "outputId": "2b9ed2e5-9862-480e-d0ce-d231676d7f49"
   },
   "outputs": [],
   "source": [
    "# NumPy array → Tensor\n",
    "x = torch.from_numpy(np.random.rand(2, 3))\n",
    "print(\"Size: {}\".format(x.shape)) \n",
    "print(\"Values: \\n{}\".format(x))"
   ]
  },
  {
   "cell_type": "code",
   "execution_count": null,
   "metadata": {
    "colab": {
     "base_uri": "https://localhost:8080/",
     "height": 51
    },
    "colab_type": "code",
    "collapsed": true,
    "id": "L8X2-5cqMXRA",
    "outputId": "af1c82ab-b8d7-4ea6-e142-7f8ed50fda40"
   },
   "outputs": [],
   "source": [
    "# Changing tensor type\n",
    "x = torch.Tensor(3, 4)\n",
    "print(\"Type: {}\".format(x.type()))\n",
    "x = x.long()\n",
    "print(\"Type: {}\".format(x.type()))"
   ]
  },
  {
   "cell_type": "markdown",
   "metadata": {
    "colab_type": "text",
    "id": "S2BRPaMvPbe3"
   },
   "source": [
    "# Tensor operations"
   ]
  },
  {
   "cell_type": "code",
   "execution_count": null,
   "metadata": {
    "colab": {
     "base_uri": "https://localhost:8080/",
     "height": 85
    },
    "colab_type": "code",
    "collapsed": true,
    "id": "Xrn8I76TMXT1",
    "outputId": "556b9d7f-79da-415c-f85d-648c5394e3a3"
   },
   "outputs": [],
   "source": [
    "# Addition\n",
    "x = torch.randn(2, 3)\n",
    "y = torch.randn(2, 3)\n",
    "z = x + y\n",
    "print(\"Size: {}\".format(z.shape)) \n",
    "print(\"Values: \\n{}\".format(z))"
   ]
  },
  {
   "cell_type": "code",
   "execution_count": null,
   "metadata": {
    "colab": {
     "base_uri": "https://localhost:8080/",
     "height": 85
    },
    "colab_type": "code",
    "collapsed": true,
    "id": "157fC9WsMXWf",
    "outputId": "a6890b43-4c74-42c6-d654-f62b8c130403"
   },
   "outputs": [],
   "source": [
    "# Dot product\n",
    "x = torch.randn(2, 3)\n",
    "y = torch.randn(3, 2)\n",
    "z = torch.mm(x, y)\n",
    "print(\"Size: {}\".format(z.shape)) \n",
    "print(\"Values: \\n{}\".format(z))"
   ]
  },
  {
   "cell_type": "code",
   "execution_count": null,
   "metadata": {
    "colab": {
     "base_uri": "https://localhost:8080/",
     "height": 170
    },
    "colab_type": "code",
    "collapsed": true,
    "id": "G6316lAmMXZG",
    "outputId": "3dce79e7-1b9f-4218-84cd-afbb16af7dd4"
   },
   "outputs": [],
   "source": [
    "# Transpose\n",
    "x = torch.randn(2, 3)\n",
    "print(\"Size: {}\".format(x.shape)) \n",
    "print(\"Values: \\n{}\".format(x))\n",
    "y = torch.t(x)\n",
    "print(x.t())\n",
    "print(\"Size: {}\".format(y.shape)) \n",
    "print(\"Values: \\n{}\".format(y))"
   ]
  },
  {
   "cell_type": "code",
   "execution_count": null,
   "metadata": {
    "colab": {
     "base_uri": "https://localhost:8080/",
     "height": 102
    },
    "colab_type": "code",
    "collapsed": true,
    "id": "FCgDCOCjMXcF",
    "outputId": "ff1e16f5-bcd9-407f-9c99-361a0b7f27f6"
   },
   "outputs": [],
   "source": [
    "# Reshape\n",
    "z = x.view(3, 2)\n",
    "print(\"Size: {}\".format(z.shape)) \n",
    "print(\"Values: \\n{}\".format(z))"
   ]
  },
  {
   "cell_type": "code",
   "execution_count": null,
   "metadata": {
    "colab": {
     "base_uri": "https://localhost:8080/",
     "height": 561
    },
    "colab_type": "code",
    "collapsed": true,
    "id": "T3-6nGgvECH9",
    "outputId": "9599adaf-1feb-4a42-d4b5-af23f1de5b2d"
   },
   "outputs": [],
   "source": [
    "# Dangers of reshaping (unintended consequences)\n",
    "x = torch.tensor([\n",
    "    [[1,1,1,1], [2,2,2,2], [3,3,3,3]],\n",
    "    [[10,10,10,10], [20,20,20,20], [30,30,30,30]]\n",
    "])\n",
    "print(\"Size: {}\".format(x.shape)) \n",
    "print(\"Values: \\n{}\\n\".format(x))\n",
    "a = x.view(x.size(1), -1)\n",
    "print(\"Size: {}\".format(a.shape)) \n",
    "print(\"Values: \\n{}\\n\".format(a))\n",
    "b = x.transpose(0,1).contiguous()\n",
    "print(\"Size: {}\".format(b.shape)) \n",
    "print(\"Values: \\n{}\\n\".format(b))\n",
    "c = b.view(b.size(0), -1)\n",
    "print(\"Size: {}\".format(c.shape)) \n",
    "print(\"Values: \\n{}\".format(c))"
   ]
  },
  {
   "cell_type": "code",
   "execution_count": null,
   "metadata": {
    "colab": {
     "base_uri": "https://localhost:8080/",
     "height": 136
    },
    "colab_type": "code",
    "collapsed": true,
    "id": "hRtG5LShMXew",
    "outputId": "b54e520a-8cd5-40a9-8b38-64919574dce0"
   },
   "outputs": [],
   "source": [
    "# Dimensional operations\n",
    "x = torch.randn(2, 3)\n",
    "print(\"Values: \\n{}\".format(x))\n",
    "y = torch.sum(x, dim=0) # add each row's value for every column\n",
    "print(\"Values: \\n{}\".format(y))\n",
    "z = torch.sum(x, dim=1) # add each columns's value for every row\n",
    "print(\"Values: \\n{}\".format(z))"
   ]
  },
  {
   "cell_type": "markdown",
   "metadata": {
    "colab_type": "text",
    "id": "zI0ZV45PrYmw"
   },
   "source": [
    "# Indexing, Splicing and Joining"
   ]
  },
  {
   "cell_type": "code",
   "execution_count": null,
   "metadata": {
    "colab": {
     "base_uri": "https://localhost:8080/",
     "height": 153
    },
    "colab_type": "code",
    "collapsed": true,
    "id": "iM3UFrs0MXhL",
    "outputId": "bfcbbf13-d8a1-4fc1-f244-fd54068ca74b"
   },
   "outputs": [],
   "source": [
    "x = torch.randn(3, 4)\n",
    "print(\"x: \\n{}\".format(x))\n",
    "print (\"x[:1]: \\n{}\".format(x[:1]))\n",
    "print (\"x[:1, 1:3]: \\n{}\".format(x[:1, 1:3]))"
   ]
  },
  {
   "cell_type": "code",
   "execution_count": null,
   "metadata": {
    "colab": {
     "base_uri": "https://localhost:8080/",
     "height": 153
    },
    "colab_type": "code",
    "collapsed": true,
    "id": "_tbpwGxcMXj0",
    "outputId": "678e805f-f5ec-49fe-d8d6-0986a3c41672"
   },
   "outputs": [],
   "source": [
    "# Select with dimensional indicies\n",
    "x = torch.randn(2, 3)\n",
    "print(\"Values: \\n{}\".format(x))\n",
    "col_indices = torch.LongTensor([0, 2])\n",
    "chosen = torch.index_select(x, dim=1, index=col_indices) # values from column 0 & 2\n",
    "print(\"Values: \\n{}\".format(chosen)) \n",
    "row_indices = torch.LongTensor([0, 1])\n",
    "chosen = x[row_indices, col_indices] # values from (0, 0) & (2, 1)\n",
    "print(\"Values: \\n{}\".format(chosen)) "
   ]
  },
  {
   "cell_type": "code",
   "execution_count": null,
   "metadata": {
    "colab": {
     "base_uri": "https://localhost:8080/",
     "height": 153
    },
    "colab_type": "code",
    "collapsed": true,
    "id": "tMeqSQtuMXmH",
    "outputId": "9fa99c82-78d9-41f8-d070-710cf1b045c7"
   },
   "outputs": [],
   "source": [
    "# Concatenation\n",
    "x = torch.randn(2, 3)\n",
    "print(\"Values: \\n{}\".format(x))\n",
    "y = torch.cat([x, x], dim=0) # stack by rows (dim=1 to stack by columns)\n",
    "print(\"Values: \\n{}\".format(y))"
   ]
  },
  {
   "cell_type": "markdown",
   "metadata": {
    "colab_type": "text",
    "id": "JqiDuIC-ByvO"
   },
   "source": [
    "# Gradients"
   ]
  },
  {
   "cell_type": "code",
   "execution_count": null,
   "metadata": {
    "colab": {
     "base_uri": "https://localhost:8080/",
     "height": 153
    },
    "colab_type": "code",
    "collapsed": true,
    "id": "qxpGB7-VL7fs",
    "outputId": "a7964762-60d4-4e0e-bed2-b2d392804494"
   },
   "outputs": [],
   "source": [
    "# Tensors with gradient bookkeeping\n",
    "x = torch.rand(3, 4, requires_grad=True)\n",
    "y = 3*x + 2\n",
    "z = y.mean()\n",
    "z.backward() # z has to be scalar\n",
    "print(\"Values: \\n{}\".format(x))\n",
    "print(\"x.grad: \\n\", x.grad)"
   ]
  },
  {
   "cell_type": "markdown",
   "metadata": {
    "colab_type": "text",
    "id": "uf7htaAMDcRV"
   },
   "source": [
    "* $ y = 3x + 2 $\n",
    "* $ y = \\sum{y}/N $\n",
    "* $ \\frac{\\partial(z)}{\\partial(x)} = \\frac{\\partial(z)}{\\partial(y)} \\frac{\\partial(z)}{\\partial(x)} = \\frac{1}{N} * 3 = \\frac{1}{12} * 3 = 0.25 $"
   ]
  },
  {
   "cell_type": "markdown",
   "metadata": {
    "colab_type": "text",
    "id": "VQtpZh1YD-kz"
   },
   "source": [
    "# CUDA tensors"
   ]
  },
  {
   "cell_type": "code",
   "execution_count": null,
   "metadata": {
    "colab": {
     "base_uri": "https://localhost:8080/",
     "height": 34
    },
    "colab_type": "code",
    "collapsed": true,
    "id": "E_C3en05L7iT",
    "outputId": "01b0eddc-db28-4786-ae48-a1004c838186"
   },
   "outputs": [],
   "source": [
    "# Is CUDA available?\n",
    "print (torch.cuda.is_available())"
   ]
  },
  {
   "cell_type": "markdown",
   "metadata": {
    "colab_type": "text",
    "id": "za47KWEJ6en2"
   },
   "source": [
    "If the code above return False, then go to `Runtime` → `Change runtime type` and select `GPU` under `Hardware accelerator`. "
   ]
  },
  {
   "cell_type": "code",
   "execution_count": null,
   "metadata": {
    "colab": {
     "base_uri": "https://localhost:8080/",
     "height": 34
    },
    "colab_type": "code",
    "collapsed": true,
    "id": "BY2DdN3j6ZxO",
    "outputId": "ec0ac0bd-461d-4b45-e131-cbf1d19c955b"
   },
   "outputs": [],
   "source": [
    "# Creating a zero tensor\n",
    "x = torch.Tensor(3, 4).to(\"cpu\")\n",
    "print(\"Type: {}\".format(x.type()))"
   ]
  },
  {
   "cell_type": "code",
   "execution_count": null,
   "metadata": {
    "colab": {
     "base_uri": "https://localhost:8080/",
     "height": 34
    },
    "colab_type": "code",
    "collapsed": true,
    "id": "EcmdTggzEFPi",
    "outputId": "0e3326db-8d3d-40aa-accd-b31ab841b572"
   },
   "outputs": [],
   "source": [
    "# Creating a zero tensor\n",
    "x = torch.Tensor(3, 4).to(\"cuda\")\n",
    "print(\"Type: {}\".format(x.type()))"
   ]
  }
 ],
 "metadata": {
  "accelerator": "GPU",
  "colab": {
   "collapsed_sections": [],
   "name": "07_PyTorch",
   "provenance": [],
   "toc_visible": true,
   "version": "0.3.2"
  },
  "kernelspec": {
   "display_name": "Python 3",
   "language": "python",
   "name": "python3"
  },
  "language_info": {
   "codemirror_mode": {
    "name": "ipython",
    "version": 3
   },
   "file_extension": ".py",
   "mimetype": "text/x-python",
   "name": "python",
   "nbconvert_exporter": "python",
   "pygments_lexer": "ipython3",
   "version": "3.6.3"
  },
  "toc": {
   "base_numbering": 1,
   "nav_menu": {},
   "number_sections": true,
   "sideBar": true,
   "skip_h1_title": false,
   "title_cell": "Table of Contents",
   "title_sidebar": "Contents",
   "toc_cell": false,
   "toc_position": {},
   "toc_section_display": true,
   "toc_window_display": false
  }
 },
 "nbformat": 4,
 "nbformat_minor": 1
}
